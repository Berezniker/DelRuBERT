{
 "cells": [
  {
   "cell_type": "markdown",
   "metadata": {},
   "source": [
    "### Проверка наличия аффикса в словаре BERT"
   ]
  },
  {
   "cell_type": "code",
   "execution_count": 1,
   "metadata": {},
   "outputs": [],
   "source": [
    "from prettytable import PrettyTable\n",
    "from typing import List"
   ]
  },
  {
   "cell_type": "code",
   "execution_count": 8,
   "metadata": {},
   "outputs": [
    {
     "data": {
      "text/plain": [
       "_StoreAction(option_strings=['-a', '--affixes-path'], dest='affixes_path', nargs=None, const=None, default=None, type=<class 'str'>, choices=None, required=False, help=None, metavar=None)"
      ]
     },
     "execution_count": 8,
     "metadata": {},
     "output_type": "execute_result"
    }
   ],
   "source": [
    "parser = argparse.ArgumentParser()\n",
    "parser.add_argument('-a', '--affixes-path', type=str)"
   ]
  },
  {
   "cell_type": "code",
   "execution_count": 2,
   "metadata": {},
   "outputs": [],
   "source": [
    "model_path = \"./BERT/DeepPavlov__RuBERT__cased_L-12_H-768_A-12\"\n",
    "vocab_path = model_path + \"/vocab.txt\"\n",
    "\n",
    "affixes_path = \"./affixes/russian_prefixes.txt\""
   ]
  },
  {
   "cell_type": "code",
   "execution_count": 3,
   "metadata": {},
   "outputs": [],
   "source": [
    "def readlines_from_file(path_to_file: str) -> List[str]:\n",
    "    return list(map(str.strip, open(path_to_file, mode='r').readlines()))"
   ]
  },
  {
   "cell_type": "code",
   "execution_count": 4,
   "metadata": {},
   "outputs": [],
   "source": [
    "vocab = readlines_from_file(vocab_path)\n",
    "affixes = readlines_from_file(affixes_path)"
   ]
  },
  {
   "cell_type": "code",
   "execution_count": 5,
   "metadata": {},
   "outputs": [
    {
     "name": "stdout",
     "output_type": "stream",
     "text": [
      "_vocab_ size = 119,547\n",
      "affixes size = 169\n"
     ]
    }
   ],
   "source": [
    "print(\n",
    "    f\"_vocab_ size = {len(vocab):,}\",\n",
    "    f\"affixes size = {len(affixes)}\",\n",
    "    sep='\\n'\n",
    ")"
   ]
  },
  {
   "cell_type": "code",
   "execution_count": 6,
   "metadata": {},
   "outputs": [
    {
     "name": "stdout",
     "output_type": "stream",
     "text": [
      "120 аффиксов из 169 (71.01%) есть в словаре.\n",
      "\n",
      "+------------+---------------+\n",
      "|   affix    | has in vocab? |\n",
      "+------------+---------------+\n",
      "|     а      |      YES      |\n",
      "|    аван    |      YES      |\n",
      "|    агит    |      YES      |\n",
      "|     ан     |      YES      |\n",
      "|   англо    |      YES      |\n",
      "|    анти    |      YES      |\n",
      "|    архи    |      YES      |\n",
      "|    атто    |       NO      |\n",
      "|    без     |      YES      |\n",
      "|    бес     |      YES      |\n",
      "|     би     |      YES      |\n",
      "|    брам    |       NO      |\n",
      "|     в      |      YES      |\n",
      "|   вдоль    |      YES      |\n",
      "|     вз     |      YES      |\n",
      "|    взо     |       NO      |\n",
      "|    вице    |      YES      |\n",
      "|    вне     |      YES      |\n",
      "|   внутри   |      YES      |\n",
      "|     во     |      YES      |\n",
      "|   военно   |      YES      |\n",
      "|    воз     |      YES      |\n",
      "|    возо    |       NO      |\n",
      "|    вос     |      YES      |\n",
      "|     вс     |      YES      |\n",
      "|     вы     |      YES      |\n",
      "|   гекса    |       NO      |\n",
      "| гексаконта |       NO      |\n",
      "|   гекта    |      YES      |\n",
      "|   гекто    |       NO      |\n",
      "|   гепта    |       NO      |\n",
      "| гептаконта |       NO      |\n",
      "|    гига    |       NO      |\n",
      "|   гипер    |      YES      |\n",
      "|    гор     |      YES      |\n",
      "|    гос     |      YES      |\n",
      "|     де     |      YES      |\n",
      "|    дез     |      YES      |\n",
      "|    дека    |       NO      |\n",
      "|    деци    |       NO      |\n",
      "|     ди     |      YES      |\n",
      "|   дикта    |       NO      |\n",
      "|    дис     |      YES      |\n",
      "|     до     |      YES      |\n",
      "|   додека   |      YES      |\n",
      "|     за     |      YES      |\n",
      "|   зепто    |       NO      |\n",
      "|   зетта    |       NO      |\n",
      "|     из     |      YES      |\n",
      "|    изо     |      YES      |\n",
      "|     ил     |      YES      |\n",
      "|     им     |      YES      |\n",
      "|     ин     |      YES      |\n",
      "|   интер    |      YES      |\n",
      "| интервики  |       NO      |\n",
      "|   интра    |       NO      |\n",
      "|   инфра    |      YES      |\n",
      "|     ир     |      YES      |\n",
      "|     ис     |      YES      |\n",
      "|   испод    |       NO      |\n",
      "|   йокто    |       NO      |\n",
      "|   йотта    |       NO      |\n",
      "|     к      |      YES      |\n",
      "|   квадра   |       NO      |\n",
      "|   квази    |      YES      |\n",
      "|    кила    |       NO      |\n",
      "|    кило    |       NO      |\n",
      "|     ко     |      YES      |\n",
      "|    кое     |      YES      |\n",
      "|    кой     |      YES      |\n",
      "|   контр    |      YES      |\n",
      "|    лейб    |      YES      |\n",
      "|    мега    |      YES      |\n",
      "|    меж     |      YES      |\n",
      "|   междо    |       NO      |\n",
      "|   между    |      YES      |\n",
      "|    мета    |      YES      |\n",
      "|   микро    |      YES      |\n",
      "|   милли    |      YES      |\n",
      "|    мини    |      YES      |\n",
      "|   мириа    |       NO      |\n",
      "|    моно    |      YES      |\n",
      "|     на     |      YES      |\n",
      "|    над     |      YES      |\n",
      "|    надо    |      YES      |\n",
      "|    наи     |       NO      |\n",
      "|    нано    |      YES      |\n",
      "|     не     |      YES      |\n",
      "|   небез    |      YES      |\n",
      "|   небес    |      YES      |\n",
      "|    недо    |      YES      |\n",
      "|     ни     |      YES      |\n",
      "|    низ     |      YES      |\n",
      "|    низо    |       NO      |\n",
      "|    нис     |      YES      |\n",
      "|    нон     |      YES      |\n",
      "|    нона    |       NO      |\n",
      "|     о      |      YES      |\n",
      "|     об     |      YES      |\n",
      "|    обез    |      YES      |\n",
      "|    обер    |      YES      |\n",
      "|    обес    |      YES      |\n",
      "|    обо     |      YES      |\n",
      "|   около    |      YES      |\n",
      "|    окта    |      YES      |\n",
      "| октаконта  |       NO      |\n",
      "|     от     |      YES      |\n",
      "|    ото     |      YES      |\n",
      "|     па     |      YES      |\n",
      "|    пан     |      YES      |\n",
      "|    пара    |      YES      |\n",
      "| пентаконта |       NO      |\n",
      "|    пере    |      YES      |\n",
      "|   перед    |      YES      |\n",
      "|    пета    |       NO      |\n",
      "|    пико    |       NO      |\n",
      "|     по     |      YES      |\n",
      "|    под     |      YES      |\n",
      "|    подо    |       NO      |\n",
      "|    поза    |      YES      |\n",
      "|   после    |      YES      |\n",
      "|    пост    |      YES      |\n",
      "|    пра     |      YES      |\n",
      "|    пре     |      YES      |\n",
      "|    пред    |      YES      |\n",
      "|   преди    |       NO      |\n",
      "|    при     |      YES      |\n",
      "|    про     |      YES      |\n",
      "|  противо   |      YES      |\n",
      "|   прото    |      YES      |\n",
      "|    раз     |      YES      |\n",
      "|    разо    |       NO      |\n",
      "|    рас     |      YES      |\n",
      "|     ре     |      YES      |\n",
      "|    роз     |      YES      |\n",
      "|    рос     |      YES      |\n",
      "|     с      |      YES      |\n",
      "|   санти    |       NO      |\n",
      "|   сверх    |      YES      |\n",
      "|     со     |      YES      |\n",
      "|   среди    |      YES      |\n",
      "|     су     |      YES      |\n",
      "|    суб     |      YES      |\n",
      "|   супер    |      YES      |\n",
      "|   супра    |       NO      |\n",
      "|    сыз     |       NO      |\n",
      "|    сюр     |      YES      |\n",
      "|    тера    |      YES      |\n",
      "|   тетра    |      YES      |\n",
      "| тетраконта |       NO      |\n",
      "|   транс    |      YES      |\n",
      "|    тре     |       NO      |\n",
      "|    три     |      YES      |\n",
      "| триаконта  |       NO      |\n",
      "|  тридека   |       NO      |\n",
      "|   трикта   |       NO      |\n",
      "|     у      |      YES      |\n",
      "|   ультра   |      YES      |\n",
      "|   ундека   |       NO      |\n",
      "|   фемто    |       NO      |\n",
      "|   через    |      YES      |\n",
      "|   черес    |      YES      |\n",
      "|    чрез    |      YES      |\n",
      "|   эйкоза   |       NO      |\n",
      "|    экзо    |       NO      |\n",
      "|    экс     |      YES      |\n",
      "|    экса    |       NO      |\n",
      "|   экстра   |      YES      |\n",
      "| эннеаконта |       NO      |\n",
      "+------------+---------------+\n"
     ]
    }
   ],
   "source": [
    "pt = PrettyTable()\n",
    "pt.field_names = [\"affix\", \"has in vocab?\"]\n",
    "\n",
    "total = 0\n",
    "for affix in affixes:\n",
    "    is_in_vocab = \"YES\" if affix in vocab else \"NO\"\n",
    "    pt.add_row([affix, is_in_vocab])\n",
    "    total += int(is_in_vocab == \"YES\")\n",
    "\n",
    "print(f'{total} аффиксов из {len(affixes)} ({100. * total / len(affixes):.2f}%) есть в словаре.\\n')\n",
    "print(pt)"
   ]
  },
  {
   "cell_type": "markdown",
   "metadata": {},
   "source": [
    "---"
   ]
  }
 ],
 "metadata": {
  "kernelspec": {
   "display_name": "Python 3",
   "language": "python",
   "name": "python3"
  },
  "language_info": {
   "codemirror_mode": {
    "name": "ipython",
    "version": 3
   },
   "file_extension": ".py",
   "mimetype": "text/x-python",
   "name": "python",
   "nbconvert_exporter": "python",
   "pygments_lexer": "ipython3",
   "version": "3.9.15"
  }
 },
 "nbformat": 4,
 "nbformat_minor": 4
}
