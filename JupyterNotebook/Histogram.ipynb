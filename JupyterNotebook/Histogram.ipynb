{
 "cells": [
  {
   "cell_type": "code",
   "execution_count": 1,
   "metadata": {},
   "outputs": [],
   "source": [
    "import json"
   ]
  },
  {
   "cell_type": "code",
   "execution_count": 2,
   "metadata": {},
   "outputs": [],
   "source": [
    "with open(\"math.json\", mode='r') as f:\n",
    "    math_json = json.load(f)\n",
    "\n",
    "with open(\"biology.json\", mode='r') as f:\n",
    "    biology_json = json.load(f)\n",
    "\n",
    "with open(\"jurisprudence.json\", mode='r') as f:\n",
    "    jurisprudence_json = json.load(f)\n",
    "\n",
    "with open(\"economy.json\", mode='r') as f:\n",
    "    economy_json = json.load(f)"
   ]
  },
  {
   "cell_type": "code",
   "execution_count": 73,
   "metadata": {},
   "outputs": [
    {
     "name": "stdout",
     "output_type": "stream",
     "text": [
      "абсцисса\n",
      "автополярность\n",
      "автополярный\n",
      "аддитивность\n",
      "адъюнкта\n",
      "аксиома\n",
      "аксонометрия\n",
      "алгебра\n",
      "алгебраическое\n",
      "анализ\n",
      "аналитическая\n",
      "аналогия\n",
      "антилогарифм\n",
      "антипараллелограмм\n",
      "антиподера\n",
      "антипризма\n",
      "антье\n",
      "апофема\n",
      "аппликата\n",
      "аппроксимация\n",
      "аргумент\n",
      "арифметика\n",
      "арифметическое\n",
      "арктангенс\n",
      "асимметрия\n",
      "асимптота\n",
      "ассоциативность\n",
      "астроида\n",
      "аффинно-преобразованный\n",
      "базис\n",
      "базисные\n",
      "бернулли\n",
      "бикасательная\n",
      "биконус\n",
      "биллион\n",
      "бином\n",
      "биноминальный\n",
      "бипирамида\n",
      "биссектриса\n",
      "больших\n",
      "вариации\n",
      "вектор\n",
      "векторами\n",
      "векторного\n",
      "векторном\n",
      "векторных\n",
      "векторов\n",
      "величины\n",
      "вероятностей\n",
      "вероятность\n",
      "вероятностью\n",
      "вертикальные\n",
      "верхняя\n",
      "вершина\n",
      "восемнадцатиугольник\n",
      "восьмигранник\n",
      "восьмигранный\n",
      "восьмидесятиугольник\n",
      "восьмиугольник\n",
      "выборка\n",
      "выборочная\n",
      "выборочное\n",
      "выборочные\n",
      "вырожденная\n",
      "высота\n",
      "гексагон\n",
      "гексатетраэдр\n",
      "гексаэдр\n",
      "генеральная\n",
      "геометрическое\n",
      "геометрия\n",
      "гептагон\n",
      "гептаэдр\n",
      "гипербола\n",
      "гиперболоид\n",
      "гиперболоидный\n",
      "гипергрань\n",
      "гиперконус\n",
      "гиперкуб\n",
      "гиперобъём\n",
      "гиперпирамида\n",
      "гиперповерхность\n",
      "гипертело\n",
      "гипершар\n",
      "гиперэллипс\n",
      "гиперэллиптический\n",
      "гипотеза\n",
      "гипотенуза\n",
      "гипоциклоида\n",
      "гироэдр\n",
      "гладкость\n",
      "голономия\n",
      "гомотетия\n",
      "гон\n",
      "гониометрия\n",
      "град\n",
      "градус\n",
      "грань\n",
      "график\n",
      "графов\n",
      "группа\n",
      "двадцативосьмиугольник\n",
      "двадцатигранник\n",
      "двадцатигранный\n",
      "двадцатидвухугольник\n",
      "двадцатиодноугольник\n",
      "двадцатипятиугольник\n",
      "двадцатитрёхугольник\n",
      "двадцатиугольник\n",
      "двадцатиугольный\n",
      "двадцатичетырёхгранник\n",
      "двадцатичетырёхугольник\n",
      "двенадцатигранник\n",
      "двенадцатигранный\n",
      "двенадцатиугольник\n",
      "двенадцатиугольный\n",
      "двугранник\n",
      "двумерный\n",
      "двумя\n",
      "двуугольник\n",
      "двухмерный\n",
      "девяностоугольник\n",
      "девяностошестиугольник\n",
      "девятигранник\n",
      "девятигранный\n",
      "девятиугольник\n",
      "девятиугольный\n",
      "девятнадцатиугольник\n",
      "дедукция\n",
      "декартова\n",
      "декаэдр\n",
      "дельтоид\n",
      "дельтоид-додекаэдр\n",
      "дельтоидальный\n",
      "дельтоэдр\n",
      "дериватор\n",
      "десятигранник\n",
      "десятигранный\n",
      "десятитысячеугольник\n",
      "десятиугольник\n",
      "десятиугольный\n",
      "деференты\n",
      "диагональ\n",
      "диагональная\n",
      "диагональность\n",
      "диаметр\n",
      "диаметральный\n",
      "дидодекаэдр\n",
      "динамическая\n",
      "диоктаэдр\n",
      "дипирамида\n",
      "директриса\n",
      "дискретное\n",
      "дискретность\n",
      "дискриминант\n",
      "дисперсия\n",
      "дистрибутивность\n",
      "дитетрагон\n",
      "дитетраэдр\n",
      "дифференциал\n",
      "дифференциальная\n",
      "дифференциального\n",
      "дифференциальное\n",
      "дихотомия\n",
      "диэдр\n",
      "длина\n",
      "длины\n",
      "додекаэдр\n",
      "дополнение\n",
      "допустимое\n",
      "достоверное\n",
      "единичная\n",
      "ехиднаэдр\n",
      "жёсткость\n",
      "зависимость\n",
      "задача\n",
      "задаче\n",
      "задачи\n",
      "закон\n",
      "замкнутый\n",
      "запись\n",
      "звезда\n",
      "звёздочка\n",
      "знаменатель\n",
      "значение\n",
      "зонотоп\n",
      "зоноэдр\n",
      "изогон\n",
      "изометрия\n",
      "изоморфизм\n",
      "изоэдр\n",
      "икосаэдр\n",
      "икосаэдральный\n",
      "икосаэдрически\n",
      "икосаэдрический\n",
      "икоситетраэдр\n",
      "икосододекаэдр\n",
      "инвариантность\n",
      "инверсия\n",
      "индекс\n",
      "индукция\n",
      "интеграл\n",
      "интервал\n",
      "интервальная\n",
      "инцидентный\n",
      "иррациональное\n",
      "итерация\n",
      "калькулятор\n",
      "каноническая\n",
      "каноническое\n",
      "касательная\n",
      "касательность\n",
      "катет\n",
      "квадрант\n",
      "квадрат\n",
      "квадратичная\n",
      "квадратичное\n",
      "квадратичных\n",
      "квадратная\n",
      "квадратной\n",
      "квазиоктаэдр\n",
      "кватернионы\n",
      "квинтиллион\n",
      "классическое\n",
      "клин\n",
      "клотоида\n",
      "коллинеарность\n",
      "комбинаторика\n",
      "комбинация\n",
      "коммутативность\n",
      "компланарность\n",
      "конгруэнтность\n",
      "константа\n",
      "континуум\n",
      "контрпараллелограмм\n",
      "контур\n",
      "конус\n",
      "конфигурация\n",
      "конхоида\n",
      "концентр\n",
      "координат\n",
      "координаты\n",
      "корреляции\n",
      "косеканс\n",
      "косинус\n",
      "котангенс\n",
      "коши\n",
      "коэффициент\n",
      "кривая\n",
      "критерий\n",
      "критическая\n",
      "круг\n",
      "куб\n",
      "кубооктаэдр\n",
      "купол\n",
      "лейцитоэдр\n",
      "лемма\n",
      "лемниската\n",
      "линейная\n",
      "линейного\n",
      "линейное\n",
      "линейных\n",
      "линия\n",
      "логарифм\n",
      "локсодромический\n",
      "локсодромный\n",
      "ломаная\n",
      "луч\n",
      "максимум\n",
      "мантисса\n",
      "масштаб\n",
      "математика\n",
      "математическая\n",
      "математический\n",
      "математического\n",
      "математическое\n",
      "матриц\n",
      "матрица\n",
      "матрицы\n",
      "матричная\n",
      "матричной\n",
      "медиана\n",
      "место\n",
      "метод\n",
      "метода\n",
      "метр\n",
      "метрика\n",
      "миллиард\n",
      "миллион\n",
      "миллисекунда\n",
      "минимум\n",
      "минор\n",
      "минус\n",
      "минута\n",
      "многогранник\n",
      "многогранный\n",
      "многоугольник\n",
      "многоячейник\n",
      "мода\n",
      "модуль\n",
      "мультипликативность\n",
      "невозможное\n",
      "невырожденная\n",
      "независимость\n",
      "независимые\n",
      "независимых\n",
      "неортогональность\n",
      "неособенная\n",
      "непрерывное\n",
      "непрерывной\n",
      "несмещенное\n",
      "нижняя\n",
      "норма\n",
      "нормальное\n",
      "нормальность\n",
      "нуль\n",
      "нумерация\n",
      "образующая\n",
      "обратная\n",
      "общее\n",
      "обыкновенное\n",
      "овал\n",
      "овоид\n",
      "одиннадцатигранник\n",
      "одиннадцатиугольник\n",
      "одиннадцатиугольный\n",
      "однородное\n",
      "одноугольник\n",
      "ожидание\n",
      "окрестность\n",
      "окружность\n",
      "октагон\n",
      "октант\n",
      "октаэдр\n",
      "октаэдральный\n",
      "описать\n",
      "определение\n",
      "определитель\n",
      "ордината\n",
      "орт\n",
      "ортогональность\n",
      "ортодромия\n",
      "осесимметричный\n",
      "основание\n",
      "особая\n",
      "ось\n",
      "откладывать\n",
      "откладываться\n",
      "отклонение\n",
      "отложить\n",
      "отображать\n",
      "отрезок\n",
      "отсекать\n",
      "отсечь\n",
      "оценка\n",
      "парабола\n",
      "параллелепипед\n",
      "параллелизм\n",
      "параллелограмм\n",
      "параллелоэдр\n",
      "параллельно\n",
      "параллельность\n",
      "параллельный\n",
      "параметр\n",
      "пентагондодекаэдр\n",
      "пентагонтритетраэдр\n",
      "пентаграмма\n",
      "пентатоп\n",
      "перепроецировать\n",
      "периметр\n",
      "перпендикуляр\n",
      "перпендикулярно\n",
      "перпендикулярный\n",
      "пирамида\n",
      "планарный\n",
      "планиметрия\n",
      "плоский\n",
      "плоскость\n",
      "плотность\n",
      "площадь\n",
      "плюс\n",
      "поверхностный\n",
      "подобие\n",
      "подобный\n",
      "полином\n",
      "политоп\n",
      "полиэдр\n",
      "полиэдрический\n",
      "полиэдроид\n",
      "полкруга\n",
      "полупрямая\n",
      "полуцилиндр\n",
      "полуцилиндрический\n",
      "поляра\n",
      "полярная\n",
      "понтон\n",
      "порядок\n",
      "постулат\n",
      "потенцирование\n",
      "правило\n",
      "правильный\n",
      "предел\n",
      "предельные\n",
      "преобразований\n",
      "призма\n",
      "призматоид\n",
      "призмоид\n",
      "пример\n",
      "программирование\n",
      "программирования\n",
      "проекция\n",
      "проецировать\n",
      "произведение\n",
      "производная\n",
      "пропорция\n",
      "пространств\n",
      "противоположное\n",
      "процент\n",
      "прямая\n",
      "прямой\n",
      "прямоугольник\n",
      "прямоугольный\n",
      "пятигранник\n",
      "пятигранный\n",
      "пятидесятигранник\n",
      "пятидесятиугольник\n",
      "пятисотугольник\n",
      "пятиугольник\n",
      "пятиугольный\n",
      "пятиячейник\n",
      "пятнадцатиугольник\n",
      "равнобедренный\n",
      "равномерное\n",
      "равносторонний\n",
      "равноугольный\n",
      "радиан\n",
      "радикал\n",
      "радиус\n",
      "ранг\n",
      "распределение\n",
      "распределения\n",
      "расширенная\n",
      "ребро\n",
      "рекуррентный\n",
      "репер\n",
      "решение\n",
      "решения\n",
      "ромб\n",
      "ромбогексакрон\n",
      "ромбогексаэдр\n",
      "ромбододекаэдр\n",
      "ромбоид\n",
      "ромбоикосододекаэдр\n",
      "ромбокубооктаэдр\n",
      "ромботриаконтаэдр\n",
      "ромбоэдр\n",
      "ромбоэдрический\n",
      "рулетты\n",
      "самоподобие\n",
      "сегмент\n",
      "секанс\n",
      "секстиллион\n",
      "сектор\n",
      "секунда\n",
      "секущая\n",
      "семигранный\n",
      "семидесятиугольник\n",
      "семиугольник\n",
      "семнадцатиугольник\n",
      "сечение\n",
      "сигнум\n",
      "симметрическая\n",
      "симметрия\n",
      "симплекс\n",
      "синус\n",
      "систем\n",
      "система\n",
      "системы\n",
      "скаленоэдр\n",
      "скаляр\n",
      "скалярное\n",
      "скутоид\n",
      "след\n",
      "случайная\n",
      "случайное\n",
      "случайной\n",
      "случайных\n",
      "собственного\n",
      "собственное\n",
      "событие\n",
      "совокупности\n",
      "совокупность\n",
      "согласия\n",
      "сорокавосьмигранный\n",
      "сорокавосьмиугольник\n",
      "сорокаугольник\n",
      "спираль\n",
      "спроецировать\n",
      "спрямление\n",
      "среднего\n",
      "среднее\n",
      "средние\n",
      "стандартное\n",
      "статистика\n",
      "статистический\n",
      "стереометрия\n",
      "стодвадцатиячейник\n",
      "сторона\n",
      "стотысячеугольник\n",
      "стоугольник\n",
      "сумма\n",
      "сфеноэдр\n",
      "сфера\n",
      "сфероид\n",
      "сферокон\n",
      "схема\n",
      "тангенс\n",
      "тангенциальный\n",
      "тело\n",
      "теорема\n",
      "теоремы\n",
      "теории\n",
      "теорию\n",
      "теория\n",
      "тетартоэдр\n",
      "тетракисгексаэдр\n",
      "тетраэдр\n",
      "тетраэдрический\n",
      "топология\n",
      "тороидальный\n",
      "точек\n",
      "точечная\n",
      "точка\n",
      "трактриса\n",
      "транспозиция\n",
      "транспонированная\n",
      "транспортир\n",
      "транспортная\n",
      "трансцендентный\n",
      "трапез\n",
      "трапеция\n",
      "трапецоид\n",
      "трапецоэдр\n",
      "треугольная\n",
      "треугольник\n",
      "треугольный\n",
      "триаконтаэдр\n",
      "триангулированная\n",
      "тригон\n",
      "тригонометрия\n",
      "тридцатигранник\n",
      "тридцатидвухугольник\n",
      "тридцатиугольник\n",
      "тридцатичетырёхугольник\n",
      "триллион\n",
      "тринадцатиугольник\n",
      "триоктаэдр\n",
      "трисекция\n",
      "тритетраэдр\n",
      "триэдр\n",
      "трохоида\n",
      "трёхгранник\n",
      "тупой\n",
      "тупоугольный\n",
      "тысячегранник\n",
      "тысячегранный\n",
      "тысячеугольник\n",
      "угол\n",
      "угольник\n",
      "уникурсальный\n",
      "уравнение\n",
      "уравнений\n",
      "уравнению\n",
      "уравнения\n",
      "усечение\n",
      "усечённый\n",
      "факториал\n",
      "фигура\n",
      "фокус\n",
      "форма\n",
      "формула\n",
      "функции\n",
      "функция\n",
      "характеристика\n",
      "характеристическое\n",
      "характеристическому\n",
      "хорда\n",
      "целевая\n",
      "центр\n",
      "центральные\n",
      "центральный\n",
      "центроида\n",
      "циклоида\n",
      "цилиндр\n",
      "циркуль\n",
      "циссоида\n",
      "цифры\n",
      "частное\n",
      "частных\n",
      "четвероугольник\n",
      "четырнадцатиугольник\n",
      "четырнадцатиугольный\n",
      "четырёхгранник\n",
      "четырёхгранный\n",
      "четырёхугольник\n",
      "чисел\n",
      "численные\n",
      "числитель\n",
      "число\n",
      "шар\n",
      "шестигранник\n",
      "шестидесятиугольник\n",
      "шестидесятичетырёхугольник\n",
      "шестисотячейник\n",
      "шестиугольник\n",
      "шестиугольный\n",
      "шестнадцатигранник\n",
      "шестнадцатигранный\n",
      "шестнадцатиугольник\n",
      "шестнадцатиугольный\n",
      "шестнадцатиячейник\n",
      "шкала\n",
      "эвольвента\n",
      "экватор\n",
      "эквидистанта\n",
      "эквидистантность\n",
      "экспонента\n",
      "экспоненциальное\n",
      "экстраполирование\n",
      "экстремум\n",
      "эксцентриситет\n",
      "эксцентриситета\n",
      "эксцентрический\n",
      "эксцентричный\n",
      "эллипс\n",
      "эллипсоид\n",
      "энтропия\n",
      "эпициклоида\n"
     ]
    }
   ],
   "source": [
    "print(*list(math_json.keys()), sep='\\n')"
   ]
  },
  {
   "cell_type": "code",
   "execution_count": 3,
   "metadata": {},
   "outputs": [
    {
     "data": {
      "text/plain": [
       "(638, 638)"
      ]
     },
     "execution_count": 3,
     "metadata": {},
     "output_type": "execute_result"
    }
   ],
   "source": [
    "len(list(math_json.keys())), len(list(set(math_json.keys())))"
   ]
  },
  {
   "cell_type": "code",
   "execution_count": 4,
   "metadata": {},
   "outputs": [
    {
     "data": {
      "text/plain": [
       "('шестидесятичетырёхугольник', 26)"
      ]
     },
     "execution_count": 4,
     "metadata": {},
     "output_type": "execute_result"
    }
   ],
   "source": [
    "max(math_json.keys(), key=len), len(max(math_json.keys(), key=len))"
   ]
  },
  {
   "cell_type": "code",
   "execution_count": 5,
   "metadata": {},
   "outputs": [],
   "source": [
    "def get_tokens(elem):\n",
    "    try:\n",
    "        return elem[\"xmorphy\"][\"phem_info\"].split(\"/\")\n",
    "    except:\n",
    "        return []"
   ]
  },
  {
   "cell_type": "code",
   "execution_count": 6,
   "metadata": {},
   "outputs": [],
   "source": [
    "math_len_char = list(map(len, math_json.keys()))\n",
    "math_len_tokens = list(map(len, map(get_tokens, math_json.values())))\n",
    "\n",
    "math_len_tokens = list(filter(lambda t: t > 0, math_len_tokens))"
   ]
  },
  {
   "cell_type": "markdown",
   "metadata": {},
   "source": [
    "---"
   ]
  },
  {
   "cell_type": "code",
   "execution_count": 7,
   "metadata": {},
   "outputs": [
    {
     "data": {
      "text/plain": [
       "(1222, 1222)"
      ]
     },
     "execution_count": 7,
     "metadata": {},
     "output_type": "execute_result"
    }
   ],
   "source": [
    "len(list(biology_json.keys())), len(list(set(biology_json.keys())))"
   ]
  },
  {
   "cell_type": "code",
   "execution_count": 8,
   "metadata": {},
   "outputs": [
    {
     "data": {
      "text/plain": [
       "('никотинамидадениндинуклеотидфосфат', 34)"
      ]
     },
     "execution_count": 8,
     "metadata": {},
     "output_type": "execute_result"
    }
   ],
   "source": [
    "max(biology_json.keys(), key=len), len(max(biology_json.keys(), key=len))"
   ]
  },
  {
   "cell_type": "code",
   "execution_count": 9,
   "metadata": {},
   "outputs": [],
   "source": [
    "biology_len_char = list(map(len, biology_json.keys()))\n",
    "biology_len_tokens = list(map(len, map(get_tokens, biology_json.values())))\n",
    "\n",
    "biology_len_tokens = list(filter(lambda t: t > 0, biology_len_tokens))"
   ]
  },
  {
   "cell_type": "markdown",
   "metadata": {},
   "source": [
    "---"
   ]
  },
  {
   "cell_type": "code",
   "execution_count": 10,
   "metadata": {},
   "outputs": [
    {
     "data": {
      "text/plain": [
       "(785, 785)"
      ]
     },
     "execution_count": 10,
     "metadata": {},
     "output_type": "execute_result"
    }
   ],
   "source": [
    "len(list(jurisprudence_json.keys())), len(list(set(jurisprudence_json.keys())))"
   ]
  },
  {
   "cell_type": "code",
   "execution_count": 11,
   "metadata": {},
   "outputs": [
    {
     "data": {
      "text/plain": [
       "('неплатёжеспособность', 20)"
      ]
     },
     "execution_count": 11,
     "metadata": {},
     "output_type": "execute_result"
    }
   ],
   "source": [
    "max(jurisprudence_json.keys(), key=len), len(max(jurisprudence_json.keys(), key=len))"
   ]
  },
  {
   "cell_type": "code",
   "execution_count": 12,
   "metadata": {},
   "outputs": [],
   "source": [
    "jurisprudence_len_char = list(map(len, jurisprudence_json.keys()))\n",
    "jurisprudence_len_tokens = list(map(len, map(get_tokens, jurisprudence_json.values())))\n",
    "\n",
    "jurisprudence_len_tokens = list(filter(lambda t: t > 0, jurisprudence_len_tokens))"
   ]
  },
  {
   "cell_type": "markdown",
   "metadata": {},
   "source": [
    "---"
   ]
  },
  {
   "cell_type": "code",
   "execution_count": 13,
   "metadata": {},
   "outputs": [
    {
     "data": {
      "text/plain": [
       "(313, 313)"
      ]
     },
     "execution_count": 13,
     "metadata": {},
     "output_type": "execute_result"
    }
   ],
   "source": [
    "len(list(economy_json.keys())), len(list(set(economy_json.keys())))"
   ]
  },
  {
   "cell_type": "code",
   "execution_count": 14,
   "metadata": {},
   "outputs": [
    {
     "data": {
      "text/plain": [
       "('конкурентоспособность', 21)"
      ]
     },
     "execution_count": 14,
     "metadata": {},
     "output_type": "execute_result"
    }
   ],
   "source": [
    "max(economy_json.keys(), key=len), len(max(economy_json.keys(), key=len))"
   ]
  },
  {
   "cell_type": "code",
   "execution_count": 15,
   "metadata": {},
   "outputs": [],
   "source": [
    "economy_len_char = list(map(len, economy_json.keys()))\n",
    "economy_len_tokens = list(map(len, map(get_tokens, economy_json.values())))\n",
    "\n",
    "economy_len_tokens = list(filter(lambda t: t > 0, economy_len_tokens))"
   ]
  },
  {
   "cell_type": "markdown",
   "metadata": {},
   "source": [
    "---"
   ]
  },
  {
   "cell_type": "code",
   "execution_count": 44,
   "metadata": {},
   "outputs": [],
   "source": [
    "import numpy as np"
   ]
  },
  {
   "cell_type": "code",
   "execution_count": 46,
   "metadata": {},
   "outputs": [
    {
     "data": {
      "text/plain": [
       "(10.391849529780565, 10.0)"
      ]
     },
     "execution_count": 46,
     "metadata": {},
     "output_type": "execute_result"
    }
   ],
   "source": [
    "np.mean(math_len_char), np.median(math_len_char)"
   ]
  },
  {
   "cell_type": "code",
   "execution_count": 47,
   "metadata": {},
   "outputs": [
    {
     "data": {
      "text/plain": [
       "(9.288052373158756, 9.0)"
      ]
     },
     "execution_count": 47,
     "metadata": {},
     "output_type": "execute_result"
    }
   ],
   "source": [
    "np.mean(biology_len_char), np.median(biology_len_char)"
   ]
  },
  {
   "cell_type": "code",
   "execution_count": 48,
   "metadata": {},
   "outputs": [
    {
     "data": {
      "text/plain": [
       "(8.280254777070065, 8.0)"
      ]
     },
     "execution_count": 48,
     "metadata": {},
     "output_type": "execute_result"
    }
   ],
   "source": [
    "np.mean(jurisprudence_len_char), np.median(jurisprudence_len_char)"
   ]
  },
  {
   "cell_type": "code",
   "execution_count": 49,
   "metadata": {},
   "outputs": [
    {
     "data": {
      "text/plain": [
       "(8.65814696485623, 8.0)"
      ]
     },
     "execution_count": 49,
     "metadata": {},
     "output_type": "execute_result"
    }
   ],
   "source": [
    "np.mean(economy_len_char), np.median(economy_len_char)"
   ]
  },
  {
   "cell_type": "code",
   "execution_count": 50,
   "metadata": {},
   "outputs": [
    {
     "data": {
      "text/plain": [
       "(3.0920840064620356, 3.0)"
      ]
     },
     "execution_count": 50,
     "metadata": {},
     "output_type": "execute_result"
    }
   ],
   "source": [
    "np.mean(math_len_tokens), np.median(math_len_tokens)"
   ]
  },
  {
   "cell_type": "code",
   "execution_count": 51,
   "metadata": {},
   "outputs": [
    {
     "data": {
      "text/plain": [
       "(2.94672131147541, 3.0)"
      ]
     },
     "execution_count": 51,
     "metadata": {},
     "output_type": "execute_result"
    }
   ],
   "source": [
    "np.mean(biology_len_tokens), np.median(biology_len_tokens)"
   ]
  },
  {
   "cell_type": "code",
   "execution_count": 52,
   "metadata": {},
   "outputs": [
    {
     "data": {
      "text/plain": [
       "(2.556122448979592, 2.0)"
      ]
     },
     "execution_count": 52,
     "metadata": {},
     "output_type": "execute_result"
    }
   ],
   "source": [
    "np.mean(jurisprudence_len_tokens), np.median(jurisprudence_len_tokens)"
   ]
  },
  {
   "cell_type": "code",
   "execution_count": 53,
   "metadata": {},
   "outputs": [
    {
     "data": {
      "text/plain": [
       "(2.45016077170418, 2.0)"
      ]
     },
     "execution_count": 53,
     "metadata": {},
     "output_type": "execute_result"
    }
   ],
   "source": [
    "np.mean(economy_len_tokens), np.median(economy_len_tokens)"
   ]
  },
  {
   "cell_type": "markdown",
   "metadata": {},
   "source": [
    "---"
   ]
  },
  {
   "cell_type": "code",
   "execution_count": 16,
   "metadata": {},
   "outputs": [],
   "source": [
    "import matplotlib.pyplot as plt\n",
    "plt.style.use(\"seaborn\")"
   ]
  },
  {
   "cell_type": "code",
   "execution_count": 43,
   "metadata": {},
   "outputs": [
    {
     "data": {
      "image/png": "[encoded data removed]",
      "text/plain": [
       "<Figure size 720x252 with 1 Axes>"
      ]
     },
     "metadata": {},
     "output_type": "display_data"
    }
   ],
   "source": [
    "plt.figure(figsize=(10, 3.5))\n",
    "\n",
    "# Draw the plot\n",
    "\n",
    "plt.hist(\n",
    "    math_len_char,\n",
    "    bins=range(36),\n",
    "    density=True,\n",
    "    color='blue',\n",
    "    edgecolor='black',\n",
    "    alpha=1.0,\n",
    "    label=\"Математика\",\n",
    "    align=\"left\",\n",
    "    width=0.8,\n",
    ")\n",
    "\n",
    "# Title and labels\n",
    "plt.title('Распределение длин слов (в символах)', size=16)\n",
    "plt.xlabel('Количество символов', size=12)\n",
    "plt.ylabel('Доля слов', size=12)\n",
    "\n",
    "plt.xticks(range(36))\n",
    "plt.yticks([0, 0.02, 0.04, 0.06, 0.08, 0.10, 0.12, 0.14, 0.16, 0.18])\n",
    "plt.xlim(xmax=35, xmin=0)\n",
    "\n",
    "plt.tight_layout()\n",
    "plt.legend(prop={'size': 12})\n",
    "# plt.show()\n",
    "plt.savefig(\"math_len_char.png\", dpi=200)"
   ]
  },
  {
   "cell_type": "code",
   "execution_count": 40,
   "metadata": {},
   "outputs": [
    {
     "data": {
      "image/png": "[encoded data removed]",
      "text/plain": [
       "<Figure size 720x252 with 1 Axes>"
      ]
     },
     "metadata": {},
     "output_type": "display_data"
    }
   ],
   "source": [
    "plt.figure(figsize=(10, 3.5))\n",
    "\n",
    "# Draw the plot\n",
    "\n",
    "plt.hist(\n",
    "    biology_len_char,\n",
    "    bins=range(36),\n",
    "    density=True,\n",
    "    color='blue',\n",
    "    edgecolor='black',\n",
    "    alpha=1.0,\n",
    "    label=\"Биология\",\n",
    "    align=\"left\",\n",
    "    width=0.8,\n",
    ")\n",
    "\n",
    "# Title and labels\n",
    "plt.title('Распределение длин слов (в символах)', size=16)\n",
    "plt.xlabel('Количество символов', size=12)\n",
    "plt.ylabel('Доля слов', size=12)\n",
    "\n",
    "plt.xticks(range(36))\n",
    "plt.yticks([0, 0.02, 0.04, 0.06, 0.08, 0.10, 0.12, 0.14, 0.16, 0.18])\n",
    "plt.xlim(xmax=35, xmin=0)\n",
    "\n",
    "plt.tight_layout()\n",
    "plt.legend(prop={'size': 12})\n",
    "# plt.show()\n",
    "plt.savefig(\"biology_len_char.png\", dpi=200)"
   ]
  },
  {
   "cell_type": "code",
   "execution_count": 41,
   "metadata": {},
   "outputs": [
    {
     "data": {
      "image/png": "[encoded data removed]",
      "text/plain": [
       "<Figure size 720x252 with 1 Axes>"
      ]
     },
     "metadata": {},
     "output_type": "display_data"
    }
   ],
   "source": [
    "plt.figure(figsize=(10, 3.5))\n",
    "\n",
    "# Draw the plot\n",
    "\n",
    "plt.hist(\n",
    "    economy_len_char,\n",
    "    bins=range(36),\n",
    "    density=True,\n",
    "    color='blue',\n",
    "    edgecolor='black',\n",
    "    alpha=1.0,\n",
    "    label=\"Экономика\",\n",
    "    align=\"left\",\n",
    "    width=0.8,\n",
    ")\n",
    "\n",
    "# Title and labels\n",
    "plt.title('Распределение длин слов (в символах)', size=16)\n",
    "plt.xlabel('Количество символов', size=12)\n",
    "plt.ylabel('Доля слов', size=12)\n",
    "\n",
    "plt.xticks(range(36))\n",
    "plt.yticks([0, 0.02, 0.04, 0.06, 0.08, 0.10, 0.12, 0.14, 0.16, 0.18])\n",
    "plt.xlim(xmax=35, xmin=0)\n",
    "\n",
    "plt.tight_layout()\n",
    "plt.legend(prop={'size': 12})\n",
    "# plt.show()\n",
    "plt.savefig(\"economy_len_char.png\", dpi=200)"
   ]
  },
  {
   "cell_type": "code",
   "execution_count": 42,
   "metadata": {},
   "outputs": [
    {
     "data": {
      "image/png": "[encoded data removed]",
      "text/plain": [
       "<Figure size 720x252 with 1 Axes>"
      ]
     },
     "metadata": {},
     "output_type": "display_data"
    }
   ],
   "source": [
    "plt.figure(figsize=(10, 3.5))\n",
    "\n",
    "# Draw the plot\n",
    "\n",
    "plt.hist(\n",
    "    jurisprudence_len_char,\n",
    "    bins=range(36),\n",
    "    density=True,\n",
    "    color='blue',\n",
    "    edgecolor='black',\n",
    "    alpha=1.0,\n",
    "    label=\"Юриспруденция\",\n",
    "    align=\"left\",\n",
    "    width=0.8,\n",
    ")\n",
    "\n",
    "# Title and labels\n",
    "plt.title('Распределение длин слов (в символах)', size=16)\n",
    "plt.xlabel('Количество символов', size=12)\n",
    "plt.ylabel('Доля слов', size=12)\n",
    "\n",
    "plt.xticks(range(36))\n",
    "plt.yticks([0, 0.02, 0.04, 0.06, 0.08, 0.10, 0.12, 0.14, 0.16, 0.18])\n",
    "plt.xlim(xmax=35, xmin=0)\n",
    "\n",
    "plt.tight_layout()\n",
    "plt.legend(prop={'size': 12})\n",
    "# plt.show()\n",
    "plt.savefig(\"jurisprudence_len_char.png\", dpi=200)"
   ]
  },
  {
   "cell_type": "markdown",
   "metadata": {},
   "source": [
    "---"
   ]
  },
  {
   "cell_type": "code",
   "execution_count": 33,
   "metadata": {},
   "outputs": [
    {
     "data": {
      "image/png": "[encoded data removed]",
      "text/plain": [
       "<Figure size 720x252 with 1 Axes>"
      ]
     },
     "metadata": {},
     "output_type": "display_data"
    }
   ],
   "source": [
    "plt.figure(figsize=(10, 3.5))\n",
    "\n",
    "# Draw the plot\n",
    "\n",
    "plt.hist(\n",
    "    math_len_tokens,\n",
    "    bins=range(11),\n",
    "    density=True,\n",
    "    color='blue',\n",
    "    edgecolor='black',\n",
    "    alpha=1.0,\n",
    "    label=\"Математика\",\n",
    "    align=\"left\",\n",
    "    width=0.9,\n",
    ")\n",
    "\n",
    "# Title and labels\n",
    "plt.title('Распределение длин слов (в морфемах)', size=16)\n",
    "plt.xlabel('Количество морфем', size=12)\n",
    "plt.ylabel('Доля слов', size=12)\n",
    "\n",
    "plt.xticks(range(11))\n",
    "plt.yticks([0, 0.05, 0.10, 0.15, 0.20, 0.25, 0.30, 0.35])\n",
    "plt.xlim(xmax=10, xmin=0)\n",
    "\n",
    "plt.tight_layout()\n",
    "plt.legend(prop={'size': 12})\n",
    "# plt.show()\n",
    "plt.savefig(\"math_len_morph.png\", dpi=200)"
   ]
  },
  {
   "cell_type": "code",
   "execution_count": 34,
   "metadata": {},
   "outputs": [
    {
     "data": {
      "image/png": "[encoded data removed]",
      "text/plain": [
       "<Figure size 720x252 with 1 Axes>"
      ]
     },
     "metadata": {},
     "output_type": "display_data"
    }
   ],
   "source": [
    "plt.figure(figsize=(10, 3.5))\n",
    "\n",
    "# Draw the plot\n",
    "\n",
    "plt.hist(\n",
    "    biology_len_tokens,\n",
    "    bins=range(11),\n",
    "    density=True,\n",
    "    color='blue',\n",
    "    edgecolor='black',\n",
    "    alpha=1.0,\n",
    "    label=\"Биология\",\n",
    "    align=\"left\",\n",
    "    width=0.9,\n",
    ")\n",
    "\n",
    "# Title and labels\n",
    "plt.title('Распределение длин слов (в морфемах)', size=16)\n",
    "plt.xlabel('Количество морфем', size=12)\n",
    "plt.ylabel('Доля слов', size=12)\n",
    "\n",
    "plt.xticks(range(11))\n",
    "plt.yticks([0, 0.05, 0.10, 0.15, 0.20, 0.25, 0.30, 0.35])\n",
    "plt.xlim(xmax=10, xmin=0)\n",
    "\n",
    "plt.tight_layout()\n",
    "plt.legend(prop={'size': 12})\n",
    "# plt.show()\n",
    "plt.savefig(\"biology_len_morph.png\", dpi=200)"
   ]
  },
  {
   "cell_type": "code",
   "execution_count": 35,
   "metadata": {},
   "outputs": [
    {
     "data": {
      "image/png": "[encoded data removed]",
      "text/plain": [
       "<Figure size 720x252 with 1 Axes>"
      ]
     },
     "metadata": {},
     "output_type": "display_data"
    }
   ],
   "source": [
    "plt.figure(figsize=(10, 3.5))\n",
    "\n",
    "# Draw the plot\n",
    "\n",
    "plt.hist(\n",
    "    economy_len_tokens,\n",
    "    bins=range(11),\n",
    "    density=True,\n",
    "    color='blue',\n",
    "    edgecolor='black',\n",
    "    alpha=1.0,\n",
    "    label=\"Экономика\",\n",
    "    align=\"left\",\n",
    "    width=0.9,\n",
    ")\n",
    "\n",
    "# Title and labels\n",
    "plt.title('Распределение длин слов (в морфемах)', size=16)\n",
    "plt.xlabel('Количество морфем', size=12)\n",
    "plt.ylabel('Доля слов', size=12)\n",
    "\n",
    "plt.xticks(range(11))\n",
    "plt.yticks([0, 0.05, 0.10, 0.15, 0.20, 0.25, 0.30, 0.35])\n",
    "plt.xlim(xmax=10, xmin=0)\n",
    "\n",
    "plt.tight_layout()\n",
    "plt.legend(prop={'size': 12})\n",
    "# plt.show()\n",
    "plt.savefig(\"economy_len_morph.png\", dpi=200)"
   ]
  },
  {
   "cell_type": "code",
   "execution_count": 36,
   "metadata": {},
   "outputs": [
    {
     "data": {
      "image/png": "[encoded data removed]",
      "text/plain": [
       "<Figure size 720x252 with 1 Axes>"
      ]
     },
     "metadata": {},
     "output_type": "display_data"
    }
   ],
   "source": [
    "plt.figure(figsize=(10, 3.5))\n",
    "\n",
    "# Draw the plot\n",
    "\n",
    "plt.hist(\n",
    "    jurisprudence_len_tokens,\n",
    "    bins=range(11),\n",
    "    density=True,\n",
    "    color='blue',\n",
    "    edgecolor='black',\n",
    "    alpha=1.0,\n",
    "    label=\"Юриспруденция\",\n",
    "    align=\"left\",\n",
    "    width=0.9,\n",
    ")\n",
    "\n",
    "# Title and labels\n",
    "plt.title('Распределение длин слов (в морфемах)', size=16)\n",
    "plt.xlabel('Количество морфем', size=12)\n",
    "plt.ylabel('Доля слов', size=12)\n",
    "\n",
    "plt.xticks(range(11))\n",
    "plt.yticks([0, 0.05, 0.10, 0.15, 0.20, 0.25, 0.30, 0.35])\n",
    "plt.xlim(xmax=10, xmin=0)\n",
    "\n",
    "plt.tight_layout()\n",
    "plt.legend(prop={'size': 12})\n",
    "# plt.show()\n",
    "plt.savefig(\"jurisprudence_len_morph.png\", dpi=200)"
   ]
  },
  {
   "cell_type": "markdown",
   "metadata": {},
   "source": [
    "---"
   ]
  },
  {
   "cell_type": "code",
   "execution_count": null,
   "metadata": {},
   "outputs": [],
   "source": []
  }
 ],
 "metadata": {
  "kernelspec": {
   "display_name": "Python 3",
   "language": "python",
   "name": "python3"
  },
  "language_info": {
   "codemirror_mode": {
    "name": "ipython",
    "version": 3
   },
   "file_extension": ".py",
   "mimetype": "text/x-python",
   "name": "python",
   "nbconvert_exporter": "python",
   "pygments_lexer": "ipython3",
   "version": "3.9.15"
  }
 },
 "nbformat": 4,
 "nbformat_minor": 4
}
